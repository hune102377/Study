{
 "cells": [
  {
   "cell_type": "markdown",
   "metadata": {},
   "source": [
    "과제 내용\n",
    "\n",
    "§ 일주일간의 일기예보 내용을 화면에 출력\n",
    "\n",
    "• 총 8일간의 일기예보 내용을 스크레이핑\n",
    "\n",
    "• 출력 항목 (4개 항목)\n",
    "    – period-name\n",
    "\n",
    "    – short-desc\n",
    "\n",
    "    – temp\n",
    "    \n",
    "    – <img title=“...”>\t"
   ]
  },
  {
   "cell_type": "markdown",
   "metadata": {},
   "source": [
    "§ 2개의 함수를 작성\n",
    "\n",
    "• 출력 내용은 동일하지만, 아래 2개의 함수를 각각 구현하시오.\n",
    "\n",
    "• def\tscraping_use_find(html)\n",
    "\n",
    "    – find(), find_all() 함수를 이용하여 스크레이핑\n",
    "\n",
    "• def\tscraping_use_select(html)\n",
    "    \n",
    "    – select(), select_one() 함수를 이용하여 스크레이핑"
   ]
  },
  {
   "cell_type": "code",
   "execution_count": 86,
   "metadata": {},
   "outputs": [],
   "source": [
    "# 모듈 설정\n",
    "from urllib.request import urlopen\n",
    "from bs4 import BeautifulSoup"
   ]
  },
  {
   "cell_type": "code",
   "execution_count": 131,
   "metadata": {},
   "outputs": [],
   "source": [
    "def\tscraping_use_select(link):\n",
    "    # urlopen을 활용하여 입력 받은 link를 읽어옴 (리턴값: bytes 형태)\n",
    "    html = urlopen(link)\n",
    "    # BeautifulSoup을 활용하여 잘못된 HTML을 수정하여 쉽게 탐색할 수 있는 XML 형식의 파이썬 객체로 변환\n",
    "    soup = BeautifulSoup(html.read(), 'html.parser')\n",
    "    # \n",
    "    soup_seven_day = soup.select_one('div#seven-day-forecast-container')\n",
    "    list_period = soup_seven_day.select('p.period-name')\n",
    "    list_short_desc = soup_seven_day.select('p.short-desc')\n",
    "    list_temp = soup_seven_day.select('p.temp')\n",
    "    list_image_desc = soup_seven_day.select('img')\n",
    "    for i in range(0,len(list_period)):\n",
    "        period = list_period[i]\n",
    "        short_desc = list_short_desc[i]\n",
    "        temperature = list_temp[i]\n",
    "        image_desc = list_image_desc[i]['alt']\n",
    "        print(f'[Period]: {period.text}\\n[Short desc]: {short_desc .text}\\n[Temperature]: {temperature.text}\\n[Image desc]: {image_desc}')\n",
    "        print('---------------------------------------------------------------------------')"
   ]
  },
  {
   "cell_type": "code",
   "execution_count": 132,
   "metadata": {},
   "outputs": [
    {
     "name": "stdout",
     "output_type": "stream",
     "text": [
      "[Period]: Tonight\n",
      "[Short desc]: Mostly Cloudy\n",
      "[Temperature]: Low: 56 °F\n",
      "[Image desc]: Tonight: Mostly cloudy, with a steady temperature around 56. West southwest wind 15 to 18 mph, with gusts as high as 22 mph. \n",
      "---------------------------------------------------------------------------\n",
      "[Period]: Thursday\n",
      "[Short desc]: Partly Sunnythen Sunnyand Breezy\n",
      "[Temperature]: High: 68 °F\n",
      "[Image desc]: Thursday: Mostly cloudy through mid morning, then gradual clearing, with a high near 68. Breezy, with a west wind 13 to 18 mph increasing to 21 to 26 mph in the afternoon. Winds could gust as high as 34 mph. \n",
      "---------------------------------------------------------------------------\n",
      "[Period]: ThursdayNight\n",
      "[Short desc]: Mostly Clearand Breezythen PartlyCloudy\n",
      "[Temperature]: Low: 55 °F\n",
      "[Image desc]: Thursday Night: Partly cloudy, with a low around 55. Breezy, with a west wind 17 to 23 mph, with gusts as high as 30 mph. \n",
      "---------------------------------------------------------------------------\n",
      "[Period]: Friday\n",
      "[Short desc]: Sunny andBreezy\n",
      "[Temperature]: High: 68 °F\n",
      "[Image desc]: Friday: Sunny, with a high near 68. Breezy, with a west wind 20 to 26 mph, with gusts as high as 34 mph. \n",
      "---------------------------------------------------------------------------\n",
      "[Period]: FridayNight\n",
      "[Short desc]: Partly Cloudyand Breezy\n",
      "[Temperature]: Low: 54 °F\n",
      "[Image desc]: Friday Night: Partly cloudy, with a low around 54. Breezy, with a west wind 17 to 25 mph, with gusts as high as 33 mph. \n",
      "---------------------------------------------------------------------------\n",
      "[Period]: Saturday\n",
      "[Short desc]: Mostly Sunny\n",
      "[Temperature]: High: 68 °F\n",
      "[Image desc]: Saturday: Mostly sunny, with a high near 68.\n",
      "---------------------------------------------------------------------------\n",
      "[Period]: SaturdayNight\n",
      "[Short desc]: Partly Cloudy\n",
      "[Temperature]: Low: 54 °F\n",
      "[Image desc]: Saturday Night: Partly cloudy, with a low around 54.\n",
      "---------------------------------------------------------------------------\n",
      "[Period]: Sunday\n",
      "[Short desc]: Mostly Sunny\n",
      "[Temperature]: High: 70 °F\n",
      "[Image desc]: Sunday: Mostly sunny, with a high near 70.\n",
      "---------------------------------------------------------------------------\n",
      "[Period]: SundayNight\n",
      "[Short desc]: Mostly Cloudy\n",
      "[Temperature]: Low: 54 °F\n",
      "[Image desc]: Sunday Night: Mostly cloudy, with a low around 54.\n",
      "---------------------------------------------------------------------------\n"
     ]
    }
   ],
   "source": [
    "scraping_use_select('https://forecast.weather.gov/MapClick.php?lat=37.7772&lon=-122.4168')"
   ]
  }
 ],
 "metadata": {
  "kernelspec": {
   "display_name": "Python 3.10.5 64-bit",
   "language": "python",
   "name": "python3"
  },
  "language_info": {
   "codemirror_mode": {
    "name": "ipython",
    "version": 3
   },
   "file_extension": ".py",
   "mimetype": "text/x-python",
   "name": "python",
   "nbconvert_exporter": "python",
   "pygments_lexer": "ipython3",
   "version": "3.10.5"
  },
  "orig_nbformat": 4,
  "vscode": {
   "interpreter": {
    "hash": "bc3264bed6473cddb994cb730962305c0ca93f43985fb4825b4b36f71df5d1f3"
   }
  }
 },
 "nbformat": 4,
 "nbformat_minor": 2
}
