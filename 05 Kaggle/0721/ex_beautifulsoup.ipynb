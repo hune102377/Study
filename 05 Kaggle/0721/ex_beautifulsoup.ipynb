{
 "cells": [
  {
   "cell_type": "code",
   "execution_count": 21,
   "metadata": {},
   "outputs": [
    {
     "name": "stdout",
     "output_type": "stream",
     "text": [
      "<h1 class=\"head-title\" id=\"hot-articles-head-title\">\n",
      "      \n",
      "      \n",
      "      중고거래 인기매물\n",
      "  </h1>\n"
     ]
    }
   ],
   "source": [
    "from urllib.request import urlopen\n",
    "from bs4 import BeautifulSoup\n",
    "\n",
    "html = urlopen('https://www.daangn.com/hot_articles')\n",
    "bs = BeautifulSoup(html.read(), 'html.parser')\n",
    "print(bs.h1)"
   ]
  },
  {
   "cell_type": "code",
   "execution_count": 22,
   "metadata": {},
   "outputs": [],
   "source": [
    "html_example = '''\n",
    "<!DOCTYPE html>\n",
    "<html lang=\"en\">\n",
    "<head>\n",
    "<meta charset=\"UTF-8\">\n",
    "<meta name=\"viewport\" content=\"width=device-width, initial-scale=1.0\">\n",
    "<title>BeautifulSoup 활용</title>\n",
    "</head>\n",
    "<body>\n",
    "<h1 id=\"heading\">Heading 1</h1>\n",
    "<p>Paragraph</p>\n",
    "<span class=\"red\">BeautifulSoup Library Examples!</span>\n",
    "<div id=\"link\">\n",
    "<a class=\"external_link\" href=\"www.google.com\">google</a>\n",
    "<div id=\"class1\">\n",
    "<p id=\"first\">class1's first paragraph</p>\n",
    "<a class=\"external_link\" href=\"www.naver.com\">naver</a>\n",
    "<p id=\"second\">class1's second paragraph</p>\n",
    "<a class=\"internal_link\" href=\"/pages/page1.html\">Page1</a>\n",
    "<p id=\"third\">class1's third paragraph</p>\n",
    "</div>\n",
    "</div>\n",
    "<div id=\"text_id2\">\n",
    "Example page\n",
    "<p>g</p>\n",
    "</div>\n",
    "<h1 id=\"footer\">Footer</h1>\n",
    "</body>\n",
    "</html>\n",
    "'''"
   ]
  },
  {
   "cell_type": "code",
   "execution_count": 23,
   "metadata": {},
   "outputs": [
    {
     "name": "stdout",
     "output_type": "stream",
     "text": [
      "<title>BeautifulSoup 활용</title>\n",
      "BeautifulSoup 활용\n",
      "BeautifulSoup 활용\n"
     ]
    }
   ],
   "source": [
    "soup = BeautifulSoup(html_example, 'html.parser')\n",
    "\n",
    "# <title> 태그에 접근(soup.태그명)\n",
    "print(soup.title) # <title> 태그 전체를 가져옴\n",
    "print(soup.title.text) # <title>태그의 텍스트만 리턴\n",
    "print(soup.title.get_text()) # .text와 동일한 기능\n"
   ]
  },
  {
   "cell_type": "code",
   "execution_count": 24,
   "metadata": {},
   "outputs": [
    {
     "name": "stdout",
     "output_type": "stream",
     "text": [
      "<head>\n",
      "<meta charset=\"utf-8\"/>\n",
      "<meta content=\"width=device-width, initial-scale=1.0\" name=\"viewport\"/>\n",
      "<title>BeautifulSoup 활용</title>\n",
      "</head>\n"
     ]
    }
   ],
   "source": [
    "# 태그명.parent: 해당 태그를 포함하고 있는 부모\n",
    "print(soup.title.parent)"
   ]
  },
  {
   "cell_type": "code",
   "execution_count": 25,
   "metadata": {},
   "outputs": [
    {
     "name": "stdout",
     "output_type": "stream",
     "text": [
      "<body>\n",
      "<h1 id=\"heading\">Heading 1</h1>\n",
      "<p>Paragraph</p>\n",
      "<span class=\"red\">BeautifulSoup Library Examples!</span>\n",
      "<div id=\"link\">\n",
      "<a class=\"external_link\" href=\"www.google.com\">google</a>\n",
      "<div id=\"class1\">\n",
      "<p id=\"first\">class1's first paragraph</p>\n",
      "<a class=\"external_link\" href=\"www.naver.com\">naver</a>\n",
      "<p id=\"second\">class1's second paragraph</p>\n",
      "<a class=\"internal_link\" href=\"/pages/page1.html\">Page1</a>\n",
      "<p id=\"third\">class1's third paragraph</p>\n",
      "</div>\n",
      "</div>\n",
      "<div id=\"text_id2\">\n",
      "Example page\n",
      "<p>g</p>\n",
      "</div>\n",
      "<h1 id=\"footer\">Footer</h1>\n",
      "</body>\n"
     ]
    }
   ],
   "source": [
    "# 태그를 사용하여 요소에 직접 접근하기\n",
    "# <body>태그에 접근\n",
    "print(soup.body)"
   ]
  },
  {
   "cell_type": "code",
   "execution_count": 26,
   "metadata": {},
   "outputs": [
    {
     "name": "stdout",
     "output_type": "stream",
     "text": [
      "\n",
      "Heading 1\n",
      "Paragraph\n",
      "BeautifulSoup Library Examples!\n",
      "\n",
      "google\n",
      "\n",
      "class1's first paragraph\n",
      "naver\n",
      "class1's second paragraph\n",
      "Page1\n",
      "class1's third paragraph\n",
      "\n",
      "\n",
      "\n",
      "Example page\n",
      "g\n",
      "\n",
      "Footer\n",
      "\n"
     ]
    }
   ],
   "source": [
    "print(soup.body.text)"
   ]
  },
  {
   "cell_type": "code",
   "execution_count": 27,
   "metadata": {},
   "outputs": [
    {
     "name": "stdout",
     "output_type": "stream",
     "text": [
      "google\n"
     ]
    }
   ],
   "source": [
    "# a 태그 중 첫번째 a 태그에 있는 텍스트\n",
    "print(soup.a.text)"
   ]
  },
  {
   "cell_type": "markdown",
   "metadata": {},
   "source": [
    "## find(), findall(), select(), select_one()\n",
    "#### find() : 해당 조건에 맞는 맨 처음 검색 결과만 추출\n",
    "#### findall() : 검색된 모든 태그를 리턴(리스트 형태)\n",
    "#### select() : css selector로 조건에 맞는 모든 태그를 리턴\n",
    "#### select_one() : css selector로 조건에 맞는 첫 번째 태그만 리턴"
   ]
  },
  {
   "cell_type": "code",
   "execution_count": 28,
   "metadata": {},
   "outputs": [
    {
     "name": "stdout",
     "output_type": "stream",
     "text": [
      "<div id=\"link\">\n",
      "<a class=\"external_link\" href=\"www.google.com\">google</a>\n",
      "<div id=\"class1\">\n",
      "<p id=\"first\">class1's first paragraph</p>\n",
      "<a class=\"external_link\" href=\"www.naver.com\">naver</a>\n",
      "<p id=\"second\">class1's second paragraph</p>\n",
      "<a class=\"internal_link\" href=\"/pages/page1.html\">Page1</a>\n",
      "<p id=\"third\">class1's third paragraph</p>\n",
      "</div>\n",
      "</div>\n"
     ]
    }
   ],
   "source": [
    "# find 함수 파라미터\n",
    "print(soup.find('div'))"
   ]
  },
  {
   "cell_type": "code",
   "execution_count": 29,
   "metadata": {},
   "outputs": [
    {
     "name": "stdout",
     "output_type": "stream",
     "text": [
      "<div id=\"text_id2\">\n",
      "Example page\n",
      "<p>g</p>\n",
      "</div>\n"
     ]
    }
   ],
   "source": [
    "# 여러 <div> 태그 중 특정 속성을 가지는 항목 추출\n",
    "#    - 딕셔너리 형태로 입력\n",
    "# id 속성의 값이 'text_id2'인 항목 검색\n",
    "print(soup.find('div', {'id' : 'text_id2'}))"
   ]
  },
  {
   "cell_type": "code",
   "execution_count": 30,
   "metadata": {},
   "outputs": [
    {
     "name": "stdout",
     "output_type": "stream",
     "text": [
      "\n",
      "Example page\n",
      "g\n",
      "\n",
      "------------\n",
      "\n",
      "Example page\n",
      "g\n",
      "\n"
     ]
    }
   ],
   "source": [
    "# 추출된 욕소에서 텍스트만 가져오는 .text 또는 get_text()\n",
    "div_text = soup.find('div', {'id' : 'text_id2'})\n",
    "print(div_text.get_text())\n",
    "print('------------')\n",
    "print(div_text.text)"
   ]
  },
  {
   "cell_type": "code",
   "execution_count": 31,
   "metadata": {},
   "outputs": [
    {
     "name": "stdout",
     "output_type": "stream",
     "text": [
      "<a class=\"internal_link\" href=\"/pages/page1.html\">Page1</a>\n",
      "/pages/page1.html\n",
      "/pages/page1.html\n",
      "Page1\n"
     ]
    }
   ],
   "source": [
    "# a 태그 및 a 태그의 href 속성 추출\n",
    "href_link = soup.find('a', {'class' : 'internal_link'}) # 딕셔너리 형태\n",
    "href_link = soup.find('a', class_='internal_link') #class는 파이썬 예약어\n",
    "\n",
    "print(href_link)\n",
    "print(href_link['href']) # a 태그 내부 href속성의 값(url)추출\n",
    "print(href_link.get('href')) # ['herf']dhk동일 기능\n",
    "print(href_link.text) # a Page1 /a태그 내부의 텍스트(Page1) 추출\n"
   ]
  },
  {
   "cell_type": "code",
   "execution_count": 32,
   "metadata": {},
   "outputs": [
    {
     "name": "stdout",
     "output_type": "stream",
     "text": [
      "dict_values([['internal_link'], '/pages/page1.html'])\n",
      "['internal_link'] /pages/page1.html\n"
     ]
    }
   ],
   "source": [
    "# a 태그 내부의 모든 속성의 값 가져오기 : dict의 values() 호출\n",
    "print(href_link.attrs.values()) # 모든 속성값 추출\n",
    "values = list(href_link.attrs.values()) # 딕셔너리 값들을 리스트로 변경\n",
    "print(values[0], values[1])"
   ]
  },
  {
   "cell_type": "code",
   "execution_count": 33,
   "metadata": {},
   "outputs": [
    {
     "name": "stdout",
     "output_type": "stream",
     "text": [
      "<a class=\"external_link\" href=\"www.google.com\">google</a>\n",
      "google\n"
     ]
    }
   ],
   "source": [
    "# href 속성의 값이 'www.google.com'인 항목 검색\n",
    "href_value = soup.find(attrs={'href' : 'www.google.com'})\n",
    "print(href_value)\n",
    "print(href_value.text)"
   ]
  },
  {
   "cell_type": "code",
   "execution_count": 34,
   "metadata": {},
   "outputs": [
    {
     "name": "stdout",
     "output_type": "stream",
     "text": [
      "span tag <span class=\"red\">BeautifulSoup Library Examples!</span>\n",
      "attrs: {'class': ['red']}\n",
      "value: ['red']\n",
      "text: BeautifulSoup Library Examples!\n"
     ]
    }
   ],
   "source": [
    "# span 태그의 속성 가져오기\n",
    "span_tag = soup.find('span')\n",
    "\n",
    "print('span tag', span_tag)\n",
    "print('attrs:', span_tag.attrs) # attribute 속성 추출\n",
    "print('value:', span_tag.attrs['class']) # class 속성의 값 추출\n",
    "print('text:', span_tag.text)\n"
   ]
  },
  {
   "cell_type": "code",
   "execution_count": 35,
   "metadata": {},
   "outputs": [
    {
     "data": {
      "text/plain": [
       "[]"
      ]
     },
     "execution_count": 35,
     "metadata": {},
     "output_type": "execute_result"
    }
   ],
   "source": [
    "# find_all() 함수\n",
    "bs.find_all('span', {'class': {'green', 'red'}}) # 'green' or 'red'"
   ]
  },
  {
   "cell_type": "code",
   "execution_count": 36,
   "metadata": {},
   "outputs": [
    {
     "name": "stdout",
     "output_type": "stream",
     "text": [
      "the prince count:  0\n"
     ]
    }
   ],
   "source": [
    "princeList = bs.find_all(text='the prince')\n",
    "print('the prince count: ', len(princeList))"
   ]
  },
  {
   "cell_type": "code",
   "execution_count": 38,
   "metadata": {},
   "outputs": [
    {
     "name": "stdout",
     "output_type": "stream",
     "text": [
      "[<div id=\"link\">\n",
      "<a class=\"external_link\" href=\"www.google.com\">google</a>\n",
      "<div id=\"class1\">\n",
      "<p id=\"first\">class1's first paragraph</p>\n",
      "<a class=\"external_link\" href=\"www.naver.com\">naver</a>\n",
      "<p id=\"second\">class1's second paragraph</p>\n",
      "<a class=\"internal_link\" href=\"/pages/page1.html\">Page1</a>\n",
      "<p id=\"third\">class1's third paragraph</p>\n",
      "</div>\n",
      "</div>, <div id=\"class1\">\n",
      "<p id=\"first\">class1's first paragraph</p>\n",
      "<a class=\"external_link\" href=\"www.naver.com\">naver</a>\n",
      "<p id=\"second\">class1's second paragraph</p>\n",
      "<a class=\"internal_link\" href=\"/pages/page1.html\">Page1</a>\n",
      "<p id=\"third\">class1's third paragraph</p>\n",
      "</div>, <div id=\"text_id2\">\n",
      "Example page\n",
      "<p>g</p>\n",
      "</div>]\n"
     ]
    }
   ],
   "source": [
    "# 모든 div 태그 검색\n",
    "div_tags = soup.find_all('div')\n",
    "print(div_tags)"
   ]
  },
  {
   "cell_type": "code",
   "execution_count": 44,
   "metadata": {},
   "outputs": [
    {
     "name": "stdout",
     "output_type": "stream",
     "text": [
      "3\n",
      "<div id=\"text_id2\">\n",
      "Example page\n",
      "<p>g</p>\n",
      "</div>\n"
     ]
    }
   ],
   "source": [
    "print(len(div_tags)) # div 태그가 저장된 리스트의 길이를 출력\n",
    "print(div_tags[2]) # div 태그가 저장된 리스트의 인덱스값 2의 요소를 출력"
   ]
  },
  {
   "cell_type": "code",
   "execution_count": 45,
   "metadata": {},
   "outputs": [
    {
     "name": "stdout",
     "output_type": "stream",
     "text": [
      "<a class=\"external_link\" href=\"www.google.com\">google</a>\n",
      "url:www.google.com, text:google\n",
      "\n",
      "<a class=\"external_link\" href=\"www.naver.com\">naver</a>\n",
      "url:www.naver.com, text:naver\n",
      "\n",
      "<a class=\"internal_link\" href=\"/pages/page1.html\">Page1</a>\n",
      "url:/pages/page1.html, text:Page1\n",
      "\n"
     ]
    }
   ],
   "source": [
    "# 모든 a 태그 검색 및 속성 보기\n",
    "links = soup.find_all('a')\n",
    "\n",
    "for alink in links:\n",
    "    print(alink)\n",
    "    print('url:{0}, text:{1}'.format(alink['href'], alink.get_text()))\n",
    "    print()"
   ]
  },
  {
   "cell_type": "code",
   "execution_count": 46,
   "metadata": {},
   "outputs": [
    {
     "name": "stdout",
     "output_type": "stream",
     "text": [
      "[<a class=\"external_link\" href=\"www.google.com\">google</a>, <a class=\"external_link\" href=\"www.naver.com\">naver</a>, <a class=\"internal_link\" href=\"/pages/page1.html\">Page1</a>]\n"
     ]
    }
   ],
   "source": [
    "# 특정 태그 중 여러 속성값을 한 번에 검색\n",
    "# a 태그의 class값이 'extrenal_link'와 'interneal_link'인 경우 검색\n",
    "link_tags = soup.find_all('a', {'class':['external_link', 'internal_link']})\n",
    "print(link_tags)"
   ]
  },
  {
   "cell_type": "code",
   "execution_count": 47,
   "metadata": {},
   "outputs": [
    {
     "name": "stdout",
     "output_type": "stream",
     "text": [
      "<p id=\"first\">class1's first paragraph</p>\n",
      "<p id=\"third\">class1's third paragraph</p>\n"
     ]
    }
   ],
   "source": [
    "# p 태그의 id값이 'first', 'third'인 항목 검색\n",
    "p_tags = soup.find_all('p', {'id': ['first', 'third']})\n",
    "\n",
    "for p in p_tags:\n",
    "    print(p)"
   ]
  },
  {
   "cell_type": "code",
   "execution_count": null,
   "metadata": {},
   "outputs": [],
   "source": []
  }
 ],
 "metadata": {
  "kernelspec": {
   "display_name": "Python 3.10.5 64-bit",
   "language": "python",
   "name": "python3"
  },
  "language_info": {
   "codemirror_mode": {
    "name": "ipython",
    "version": 3
   },
   "file_extension": ".py",
   "mimetype": "text/x-python",
   "name": "python",
   "nbconvert_exporter": "python",
   "pygments_lexer": "ipython3",
   "version": "3.10.5"
  },
  "orig_nbformat": 4,
  "vscode": {
   "interpreter": {
    "hash": "bc3264bed6473cddb994cb730962305c0ca93f43985fb4825b4b36f71df5d1f3"
   }
  }
 },
 "nbformat": 4,
 "nbformat_minor": 2
}
