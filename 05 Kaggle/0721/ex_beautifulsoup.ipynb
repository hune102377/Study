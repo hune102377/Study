{
 "cells": [
  {
   "cell_type": "code",
   "execution_count": 2,
   "metadata": {},
   "outputs": [
    {
     "name": "stdout",
     "output_type": "stream",
     "text": [
      "<h1 class=\"head-title\" id=\"hot-articles-head-title\">\n",
      "      \n",
      "      \n",
      "      중고거래 인기매물\n",
      "  </h1>\n"
     ]
    }
   ],
   "source": [
    "from urllib.request import urlopen\n",
    "from bs4 import BeautifulSoup\n",
    "\n",
    "html = urlopen('https://www.daangn.com/hot_articles')\n",
    "bs = BeautifulSoup(html.read(), 'html.parser')\n",
    "print(bs.h1)"
   ]
  },
  {
   "cell_type": "code",
   "execution_count": 3,
   "metadata": {},
   "outputs": [],
   "source": [
    "html_example = '''\n",
    "<!DOCTYPE html>\n",
    "<html lang=\"en\">\n",
    "<head>\n",
    "<meta charset=\"UTF-8\">\n",
    "<meta name=\"viewport\" content=\"width=device-width, initial-scale=1.0\">\n",
    "<title>BeautifulSoup 활용</title>\n",
    "</head>\n",
    "<body>\n",
    "<h1 id=\"heading\">Heading 1</h1>\n",
    "<p>Paragraph</p>\n",
    "<span class=\"red\">BeautifulSoup Library Examples!</span>\n",
    "<div id=\"link\">\n",
    "<a class=\"external_link\" href=\"www.google.com\">google</a>\n",
    "<div id=\"class1\">\n",
    "<p id=\"first\">class1's first paragraph</p>\n",
    "<a class=\"external_link\" href=\"www.naver.com\">naver</a>\n",
    "<p id=\"second\">class1's second paragraph</p>\n",
    "<a class=\"internal_link\" href=\"/pages/page1.html\">Page1</a>\n",
    "<p id=\"third\">class1's third paragraph</p>\n",
    "</div>\n",
    "</div>\n",
    "<div id=\"text_id2\">\n",
    "Example page\n",
    "<p>g</p>\n",
    "</div>\n",
    "<h1 id=\"footer\">Footer</h1>\n",
    "</body>\n",
    "</html>\n",
    "'''"
   ]
  },
  {
   "cell_type": "code",
   "execution_count": 4,
   "metadata": {},
   "outputs": [
    {
     "name": "stdout",
     "output_type": "stream",
     "text": [
      "<title>BeautifulSoup 활용</title>\n",
      "BeautifulSoup 활용\n",
      "BeautifulSoup 활용\n"
     ]
    }
   ],
   "source": [
    "soup = BeautifulSoup(html_example, 'html.parser')\n",
    "\n",
    "# <title> 태그에 접근(soup.태그명)\n",
    "print(soup.title) # <title> 태그 전체를 가져옴\n",
    "print(soup.title.text) # <title>태그의 텍스트만 리턴\n",
    "print(soup.title.get_text()) # .text와 동일한 기능\n"
   ]
  },
  {
   "cell_type": "code",
   "execution_count": 5,
   "metadata": {},
   "outputs": [
    {
     "name": "stdout",
     "output_type": "stream",
     "text": [
      "<head>\n",
      "<meta charset=\"utf-8\"/>\n",
      "<meta content=\"width=device-width, initial-scale=1.0\" name=\"viewport\"/>\n",
      "<title>BeautifulSoup 활용</title>\n",
      "</head>\n"
     ]
    }
   ],
   "source": [
    "# 태그명.parent: 해당 태그를 포함하고 있는 부모\n",
    "print(soup.title.parent)"
   ]
  },
  {
   "cell_type": "code",
   "execution_count": 6,
   "metadata": {},
   "outputs": [
    {
     "name": "stdout",
     "output_type": "stream",
     "text": [
      "<body>\n",
      "<h1 id=\"heading\">Heading 1</h1>\n",
      "<p>Paragraph</p>\n",
      "<span class=\"red\">BeautifulSoup Library Examples!</span>\n",
      "<div id=\"link\">\n",
      "<a class=\"external_link\" href=\"www.google.com\">google</a>\n",
      "<div id=\"class1\">\n",
      "<p id=\"first\">class1's first paragraph</p>\n",
      "<a class=\"external_link\" href=\"www.naver.com\">naver</a>\n",
      "<p id=\"second\">class1's second paragraph</p>\n",
      "<a class=\"internal_link\" href=\"/pages/page1.html\">Page1</a>\n",
      "<p id=\"third\">class1's third paragraph</p>\n",
      "</div>\n",
      "</div>\n",
      "<div id=\"text_id2\">\n",
      "Example page\n",
      "<p>g</p>\n",
      "</div>\n",
      "<h1 id=\"footer\">Footer</h1>\n",
      "</body>\n"
     ]
    }
   ],
   "source": [
    "# 태그를 사용하여 요소에 직접 접근하기\n",
    "# <body>태그에 접근\n",
    "print(soup.body)"
   ]
  },
  {
   "cell_type": "code",
   "execution_count": 7,
   "metadata": {},
   "outputs": [
    {
     "name": "stdout",
     "output_type": "stream",
     "text": [
      "\n",
      "Heading 1\n",
      "Paragraph\n",
      "BeautifulSoup Library Examples!\n",
      "\n",
      "google\n",
      "\n",
      "class1's first paragraph\n",
      "naver\n",
      "class1's second paragraph\n",
      "Page1\n",
      "class1's third paragraph\n",
      "\n",
      "\n",
      "\n",
      "Example page\n",
      "g\n",
      "\n",
      "Footer\n",
      "\n"
     ]
    }
   ],
   "source": [
    "print(soup.body.text)"
   ]
  },
  {
   "cell_type": "code",
   "execution_count": 9,
   "metadata": {},
   "outputs": [
    {
     "name": "stdout",
     "output_type": "stream",
     "text": [
      "google\n"
     ]
    }
   ],
   "source": [
    "# a 태그 중 첫번째 a 태그에 있는 텍스트\n",
    "print(soup.a.text)"
   ]
  },
  {
   "cell_type": "markdown",
   "metadata": {},
   "source": [
    "## find(), findall(), select(), select_one()\n",
    "#### find() : 해당 조건에 맞는 맨 처음 검색 결과만 추출\n",
    "#### findall() :\n",
    "#### select() :\n",
    "#### select_one() :"
   ]
  },
  {
   "cell_type": "code",
   "execution_count": 12,
   "metadata": {},
   "outputs": [
    {
     "name": "stdout",
     "output_type": "stream",
     "text": [
      "<div id=\"link\">\n",
      "<a class=\"external_link\" href=\"www.google.com\">google</a>\n",
      "<div id=\"class1\">\n",
      "<p id=\"first\">class1's first paragraph</p>\n",
      "<a class=\"external_link\" href=\"www.naver.com\">naver</a>\n",
      "<p id=\"second\">class1's second paragraph</p>\n",
      "<a class=\"internal_link\" href=\"/pages/page1.html\">Page1</a>\n",
      "<p id=\"third\">class1's third paragraph</p>\n",
      "</div>\n",
      "</div>\n"
     ]
    }
   ],
   "source": [
    "# find 함수 파라미터\n",
    "print(soup.find('div'))"
   ]
  },
  {
   "cell_type": "code",
   "execution_count": 13,
   "metadata": {},
   "outputs": [
    {
     "name": "stdout",
     "output_type": "stream",
     "text": [
      "<div id=\"text_id2\">\n",
      "Example page\n",
      "<p>g</p>\n",
      "</div>\n"
     ]
    }
   ],
   "source": [
    "# 여러 <div> 태그 중 특정 속성을 가지는 항목 추출\n",
    "#    - 딕셔너리 형태로 입력\n",
    "# id 속성의 값이 'text_id2'인 항목 검색\n",
    "print(soup.find('div', {'id' : 'text_id2'}))"
   ]
  },
  {
   "cell_type": "code",
   "execution_count": 16,
   "metadata": {},
   "outputs": [
    {
     "name": "stdout",
     "output_type": "stream",
     "text": [
      "\n",
      "Example page\n",
      "g\n",
      "\n",
      "------------\n",
      "\n",
      "Example page\n",
      "g\n",
      "\n"
     ]
    }
   ],
   "source": [
    "# 추출된 욕소에서 텍스트만 가져오는 .text 또는 get_text()\n",
    "div_text = soup.find('div', {'id' : 'text_id2'})\n",
    "print(div_text.get_text())\n",
    "print('------------')\n",
    "print(div_text.text)"
   ]
  },
  {
   "cell_type": "code",
   "execution_count": null,
   "metadata": {},
   "outputs": [],
   "source": []
  }
 ],
 "metadata": {
  "kernelspec": {
   "display_name": "Python 3.10.5 64-bit",
   "language": "python",
   "name": "python3"
  },
  "language_info": {
   "codemirror_mode": {
    "name": "ipython",
    "version": 3
   },
   "file_extension": ".py",
   "mimetype": "text/x-python",
   "name": "python",
   "nbconvert_exporter": "python",
   "pygments_lexer": "ipython3",
   "version": "3.10.5"
  },
  "orig_nbformat": 4,
  "vscode": {
   "interpreter": {
    "hash": "bc3264bed6473cddb994cb730962305c0ca93f43985fb4825b4b36f71df5d1f3"
   }
  }
 },
 "nbformat": 4,
 "nbformat_minor": 2
}
