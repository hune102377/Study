{
 "cells": [
  {
   "cell_type": "code",
   "execution_count": 1,
   "metadata": {},
   "outputs": [
    {
     "name": "stdout",
     "output_type": "stream",
     "text": [
      "hello world\n"
     ]
    }
   ],
   "source": [
    "hello?"
   ]
  },
  {
   "cell_type": "code",
   "execution_count": 3,
   "metadata": {},
   "outputs": [
    {
     "name": "stdout",
     "output_type": "stream",
     "text": [
      "1번째 인사\n",
      "hello wolrd!\n",
      "2번째 인사\n",
      "hello wolrd!!\n",
      "3번째 인사\n",
      "hello wolrd!!!\n",
      "4번째 인사\n",
      "hello wolrd!!!!\n",
      "5번째 인사\n",
      "hello wolrd!!!!!\n"
     ]
    }
   ],
   "source": [
    "for i in range(5):\n",
    "    print(f'{i + 1}번째 인사')\n",
    "    print('hello wolrd' + ('!'* (i+1)))"
   ]
  },
  {
   "cell_type": "code",
   "execution_count": null,
   "metadata": {},
   "outputs": [],
   "source": []
  }
 ],
 "metadata": {
  "kernelspec": {
   "display_name": "Python 3.10.5 64-bit",
   "language": "python",
   "name": "python3"
  },
  "language_info": {
   "codemirror_mode": {
    "name": "ipython",
    "version": 3
   },
   "file_extension": ".py",
   "mimetype": "text/x-python",
   "name": "python",
   "nbconvert_exporter": "python",
   "pygments_lexer": "ipython3",
   "version": "3.10.5"
  },
  "orig_nbformat": 4,
  "vscode": {
   "interpreter": {
    "hash": "bc3264bed6473cddb994cb730962305c0ca93f43985fb4825b4b36f71df5d1f3"
   }
  }
 },
 "nbformat": 4,
 "nbformat_minor": 2
}
