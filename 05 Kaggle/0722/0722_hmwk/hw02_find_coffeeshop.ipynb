{
 "cells": [
  {
   "cell_type": "markdown",
   "metadata": {},
   "source": [
    "##### 2. 저장된 csv 파일을 읽어서 사용자가 입력한 지역에 있는 매장 정보 출력\n",
    "##### - hw02_find_coffeeshop.ipynb"
   ]
  },
  {
   "cell_type": "code",
   "execution_count": 1,
   "metadata": {},
   "outputs": [],
   "source": [
    "# 모듈 로딩\n",
    "import pandas as pd"
   ]
  },
  {
   "cell_type": "code",
   "execution_count": 2,
   "metadata": {},
   "outputs": [],
   "source": [
    "def findcity():\n",
    "    # 사용할 리스트 선언\n",
    "    list_city_address = []\n",
    "    list_city_phone = []\n",
    "\n",
    "    df = pd.read_csv('./hollys_branches.csv', encoding='utf-8') # csv 파일 읽어오기\n",
    "\n",
    "    city_name = input('검색할 매장의 도시를 입력하세요: ') # 입력 값 받기\n",
    "\n",
    "    for i in range(len(df.index)): # 전체 데이터에서\n",
    "        if city_name in df['매장이름'][i] : # 만약 입력 받은 도시 이름이 '매장이름' 컬럼에 있다면\n",
    "            list_city_address.append(df['주소'][i]) # 해당 매장의 주소와\n",
    "            list_city_phone.append(df['전화번호'][i]) # 전화 번호를 각각의 리스트에 저장\n",
    "        \n",
    "    print(f'{city_name} 매장 검색')\n",
    "    print('--------------------')\n",
    "    print(f'검색된 매장 수:  {len(list_city_address)}') # 검색 결과가 일치하는 전체 매장 수를 출력\n",
    "    print('--------------------')\n",
    "    for j in range(len(list_city_address)): # 검색 결과가 일치하는 매장 리스트에서\n",
    "        print(\"[{0:3d}]: ['{1}', '{2}']\".format((j+1), list_city_address[j], list_city_phone[j])) # 각각의 행 출력"
   ]
  },
  {
   "cell_type": "code",
   "execution_count": 3,
   "metadata": {},
   "outputs": [
    {
     "name": "stdout",
     "output_type": "stream",
     "text": [
      "서울 동작 매장 검색\n",
      "--------------------\n",
      "검색된 매장 수:  6\n",
      "--------------------\n",
      "[  1]: ['서울특별시 동작구 장승배기로11가길 11, 1층 (상도동, 상도파크자이)', '02-812-9330']\n",
      "[  2]: ['서울특별시 동작구 흑석로 77 (흑석동) 할리스 1~4층', '02-3280-3280']\n",
      "[  3]: ['서울특별시 동작구 알마타길 6 (대방동, 파밀리에 하늘마루) 101호, 102호 .', '02-825-6369']\n",
      "[  4]: ['서울시 동작구 보라매로5길 20 서울특별시보라매병원 희망관 1층', '02-831-3085']\n",
      "[  5]: ['서울특별시 동작구 노량진로 157 (노량진동) 2층', '02-827-0280']\n",
      "[  6]: ['서울특별시 동작구 동작대로 83 (사당동, 헤라피스빌딩) 1층', '02-588-4845']\n"
     ]
    }
   ],
   "source": [
    "findcity()"
   ]
  },
  {
   "cell_type": "code",
   "execution_count": 4,
   "metadata": {},
   "outputs": [
    {
     "name": "stdout",
     "output_type": "stream",
     "text": [
      "대구 북구 매장 검색\n",
      "--------------------\n",
      "검색된 매장 수:  6\n",
      "--------------------\n",
      "[  1]: ['대구광역시 북구 동화천로 229 (연경동) 1층~2층', '053-982-6877']\n",
      "[  2]: ['대구광역시 북구 대학로 17길 3 (산격동 1393-11) 할리스 B1~3층', '053-951-9990']\n",
      "[  3]: ['대구광역시 북구 구암로 59 비전스퀘어 1,2층 .', '053-324-6122']\n",
      "[  4]: ['대구광역시 북구 침산남로 157 (침산동) .', '053-353-5544']\n",
      "[  5]: ['대구 북구 성북로 36,2층 601,602,603,604 473-3, 침산초등학교 맞은편', '053-353-5412']\n",
      "[  6]: ['대구광역시 북구 동천로 125 (동천동) .', '053-321-0099']\n"
     ]
    }
   ],
   "source": [
    "findcity()"
   ]
  },
  {
   "cell_type": "code",
   "execution_count": null,
   "metadata": {},
   "outputs": [],
   "source": []
  }
 ],
 "metadata": {
  "kernelspec": {
   "display_name": "Python 3.10.5 64-bit",
   "language": "python",
   "name": "python3"
  },
  "language_info": {
   "codemirror_mode": {
    "name": "ipython",
    "version": 3
   },
   "file_extension": ".py",
   "mimetype": "text/x-python",
   "name": "python",
   "nbconvert_exporter": "python",
   "pygments_lexer": "ipython3",
   "version": "3.10.5"
  },
  "orig_nbformat": 4,
  "vscode": {
   "interpreter": {
    "hash": "bc3264bed6473cddb994cb730962305c0ca93f43985fb4825b4b36f71df5d1f3"
   }
  }
 },
 "nbformat": 4,
 "nbformat_minor": 2
}
