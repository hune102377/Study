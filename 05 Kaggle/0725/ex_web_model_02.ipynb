{
 "cells": [
  {
   "cell_type": "code",
   "execution_count": 1,
   "metadata": {},
   "outputs": [],
   "source": [
    "import requests\n",
    "from bs4 import BeautifulSoup\n",
    "import time"
   ]
  },
  {
   "cell_type": "code",
   "execution_count": 2,
   "metadata": {},
   "outputs": [],
   "source": [
    "class Content:\n",
    "    def __init__(self, topic, url, title, body):\n",
    "        self.topic = topic\n",
    "        self.url = url\n",
    "        self.title = title\n",
    "        self.body = body\n",
    "\n",
    "    def print(self):\n",
    "        print('New articel found for toplic: {}'.format(self.topic))\n",
    "        print('URL: {}'.format(self.url))\n",
    "        print('TITLE: {}'.format(self.title))\n",
    "        print(\"BODY: \\n {}\".format(self.body))"
   ]
  },
  {
   "cell_type": "code",
   "execution_count": 3,
   "metadata": {},
   "outputs": [],
   "source": [
    "class Website:\n",
    "    def __init__(self, name, url, searchUrl, resultListing, resultUrl, absoluteUrl, titleTag, bodyTag):\n",
    "        self.name = name\n",
    "        self.url = url\n",
    "        self.searchUrl = searchUrl\n",
    "        self.resultListing = resultListing\n",
    "        self.resultUrl = resultUrl\n",
    "        self.absoluteUrl = absoluteUrl\n",
    "        self.titleTag = titleTag\n",
    "        self.bodyTag = bodyTag"
   ]
  },
  {
   "cell_type": "code",
   "execution_count": 4,
   "metadata": {},
   "outputs": [],
   "source": [
    "class Crawler:\n",
    "    def getPage(self, url):\n",
    "        try:\n",
    "            req = requests.get(url)\n",
    "        except requests.exceptions.RequestException:\n",
    "            return None\n",
    "        return BeautifulSoup(req.text, 'html.parser')\n",
    "    \n",
    "    def safeGet(self, pageObj, selector):\n",
    "        childObj = pageObj.select(selector)\n",
    "        if childObj is not None and len(childObj) > 0:\n",
    "            return childObj[0].get_text()\n",
    "        else :\n",
    "            return ' '\n",
    "            \n",
    "    def getAllBody(self, pageObj, selector):\n",
    "        childObj = pageObj.select(selector)\n",
    "        bodyText = \"\"\n",
    "        if childObj is not None:\n",
    "            for i in range (len(childObj)):\n",
    "                bodyText = bodyText + childObj[i].get_text() + '\\n'\n",
    "            return bodyText\n",
    "        else:\n",
    "            return ''\n",
    "    \n",
    "    def search(self, topic, site):\n",
    "        print('searchUrl+topic:', site.searchUrl + topic)\n",
    "\n",
    "        bs = self.getPage(site.searchUrl + topic)\n",
    "        searchResults = bs.select(site.resultListing)\n",
    "\n",
    "        for result in searchResults:\n",
    "            url = result.select(site.resultUrl)[0].attrs['href']\n",
    "            if(site.absoluteUrl):\n",
    "                bs = self.getPage(url)\n",
    "            else :\n",
    "                bs = self.getPage(self.url + url)\n",
    "            if bs in None :\n",
    "                print('Somthing was wrong with tha page or URL. Skipping')\n",
    "                return\n",
    "            title = self.safeGet(bs. site.titleTag)\n",
    "            body = self.getAllBody(bs, site.bodyTag)\n",
    "\n",
    "            if title != '' and body != '':\n",
    "                content = Content(topic, url, title, body)\n",
    "                content.print()"
   ]
  },
  {
   "cell_type": "code",
   "execution_count": 5,
   "metadata": {},
   "outputs": [
    {
     "name": "stdout",
     "output_type": "stream",
     "text": [
      "GETTING INFO ABOUT: python\n",
      "searchUrl+topic: http://www.reuters.com/search/news?blob=python\n"
     ]
    },
    {
     "ename": "AttributeError",
     "evalue": "'Crawler' object has no attribute 'url'",
     "output_type": "error",
     "traceback": [
      "\u001b[1;31m---------------------------------------------------------------------------\u001b[0m",
      "\u001b[1;31mAttributeError\u001b[0m                            Traceback (most recent call last)",
      "\u001b[1;32mUntitled-1.ipynb 셀 5\u001b[0m in \u001b[0;36m<cell line: 19>\u001b[1;34m()\u001b[0m\n\u001b[0;32m     <a href='vscode-notebook-cell:Untitled-1.ipynb?jupyter-notebook#ch0000005untitled?line=19'>20</a>\u001b[0m \u001b[39mprint\u001b[39m(\u001b[39m'\u001b[39m\u001b[39mGETTING INFO ABOUT: \u001b[39m\u001b[39m'\u001b[39m \u001b[39m+\u001b[39m topic)\n\u001b[0;32m     <a href='vscode-notebook-cell:Untitled-1.ipynb?jupyter-notebook#ch0000005untitled?line=20'>21</a>\u001b[0m \u001b[39mfor\u001b[39;00m targetSite \u001b[39min\u001b[39;00m sites:\n\u001b[1;32m---> <a href='vscode-notebook-cell:Untitled-1.ipynb?jupyter-notebook#ch0000005untitled?line=21'>22</a>\u001b[0m     crawler\u001b[39m.\u001b[39;49msearch(topic, targetSite)\n",
      "\u001b[1;32mUntitled-1.ipynb 셀 5\u001b[0m in \u001b[0;36mCrawler.search\u001b[1;34m(self, topic, site)\u001b[0m\n\u001b[0;32m     <a href='vscode-notebook-cell:Untitled-1.ipynb?jupyter-notebook#ch0000005untitled?line=33'>34</a>\u001b[0m     bs \u001b[39m=\u001b[39m \u001b[39mself\u001b[39m\u001b[39m.\u001b[39mgetPage(url)\n\u001b[0;32m     <a href='vscode-notebook-cell:Untitled-1.ipynb?jupyter-notebook#ch0000005untitled?line=34'>35</a>\u001b[0m \u001b[39melse\u001b[39;00m :\n\u001b[1;32m---> <a href='vscode-notebook-cell:Untitled-1.ipynb?jupyter-notebook#ch0000005untitled?line=35'>36</a>\u001b[0m     bs \u001b[39m=\u001b[39m \u001b[39mself\u001b[39m\u001b[39m.\u001b[39mgetPage(\u001b[39mself\u001b[39;49m\u001b[39m.\u001b[39;49murl \u001b[39m+\u001b[39m url)\n\u001b[0;32m     <a href='vscode-notebook-cell:Untitled-1.ipynb?jupyter-notebook#ch0000005untitled?line=36'>37</a>\u001b[0m \u001b[39mif\u001b[39;00m bs \u001b[39min\u001b[39;00m \u001b[39mNone\u001b[39;00m :\n\u001b[0;32m     <a href='vscode-notebook-cell:Untitled-1.ipynb?jupyter-notebook#ch0000005untitled?line=37'>38</a>\u001b[0m     \u001b[39mprint\u001b[39m(\u001b[39m'\u001b[39m\u001b[39mSomthing was wrong with tha page or URL. Skipping\u001b[39m\u001b[39m'\u001b[39m)\n",
      "\u001b[1;31mAttributeError\u001b[0m: 'Crawler' object has no attribute 'url'"
     ]
    }
   ],
   "source": [
    "crawler = Crawler()\n",
    "siteData1 = [\n",
    "    ['Reuters', # Website.name\n",
    "    'http://reuters.com', # Website.url\n",
    "    'http://www.reuters.com/search/news?blob=', # Website.searchUrl: 검색을 위한 URL\n",
    "    'div.search-result-content', # Website.resultListing: 검색 결과에 대한 정보\n",
    "    'h3.search-result-title > a', # Website.resultUrl: 결과에서 URL을 추출할 때 사용할 태그\n",
    "    False, # Website.absoluteUrl 사용 여부\n",
    "    'h1', # Website.titleTag\n",
    "    'p.Paragraph-paragraph-2Bgue'] # Website.bodyTag\n",
    "]\n",
    "\n",
    "sites = []\n",
    "for row in siteData1:\n",
    "    sites.append(Website(row[0], row[1], row[2], row[3],\n",
    "    row[4], row[5], row[6], row[7]))\n",
    "\n",
    "topics = ['python']\n",
    "for topic in topics:\n",
    "    print('GETTING INFO ABOUT: ' + topic)\n",
    "    for targetSite in sites:\n",
    "        crawler.search(topic, targetSite)"
   ]
  },
  {
   "cell_type": "code",
   "execution_count": null,
   "metadata": {},
   "outputs": [],
   "source": []
  },
  {
   "cell_type": "code",
   "execution_count": null,
   "metadata": {},
   "outputs": [],
   "source": []
  }
 ],
 "metadata": {
  "kernelspec": {
   "display_name": "Python 3.10.5 64-bit",
   "language": "python",
   "name": "python3"
  },
  "language_info": {
   "codemirror_mode": {
    "name": "ipython",
    "version": 3
   },
   "file_extension": ".py",
   "mimetype": "text/x-python",
   "name": "python",
   "nbconvert_exporter": "python",
   "pygments_lexer": "ipython3",
   "version": "3.10.5"
  },
  "orig_nbformat": 4,
  "vscode": {
   "interpreter": {
    "hash": "bc3264bed6473cddb994cb730962305c0ca93f43985fb4825b4b36f71df5d1f3"
   }
  }
 },
 "nbformat": 4,
 "nbformat_minor": 2
}
