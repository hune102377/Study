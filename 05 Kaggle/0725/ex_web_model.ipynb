{
 "cells": [
  {
   "cell_type": "code",
   "execution_count": 1,
   "metadata": {},
   "outputs": [],
   "source": [
    "import requests\n",
    "from bs4 import BeautifulSoup"
   ]
  },
  {
   "cell_type": "code",
   "execution_count": 2,
   "metadata": {},
   "outputs": [],
   "source": [
    "class Content:\n",
    "    def __init__(self, url, title, body):\n",
    "        self.url = url\n",
    "        self.title = title\n",
    "        self.body = body"
   ]
  },
  {
   "cell_type": "code",
   "execution_count": 3,
   "metadata": {},
   "outputs": [],
   "source": [
    "def getPage(url):\n",
    "    req = requests.get(url)\n",
    "    return BeautifulSoup(req.text, 'html.parser')"
   ]
  },
  {
   "cell_type": "code",
   "execution_count": 4,
   "metadata": {},
   "outputs": [],
   "source": [
    "def scrapeBrookings(url):\n",
    "    bs = getPage(url)\n",
    "    title = bs.find('h1').text\n",
    "    body = bs.find('div', {'class' : 'post-body'}).text\n",
    "    return Content(url, title, body)"
   ]
  },
  {
   "cell_type": "code",
   "execution_count": 10,
   "metadata": {},
   "outputs": [],
   "source": [
    "url = 'https://www.brookings.edu/blog/fixgov/2022/07/21/press-bothsideism-has-failed-biden-and-america/'"
   ]
  },
  {
   "cell_type": "code",
   "execution_count": 11,
   "metadata": {},
   "outputs": [
    {
     "name": "stdout",
     "output_type": "stream",
     "text": [
      "Title: Press “bothsideism” has failed Biden, and America\n",
      "URL: https://www.brookings.edu/blog/fixgov/2022/07/21/press-bothsideism-has-failed-biden-and-america/\n",
      "\n",
      "\n",
      "\n",
      "\n",
      "\n",
      "\n",
      "\n",
      "\n",
      "\n",
      "Marvin Kalb\n",
      "\n",
      "\t\t\t\t\tNonresident Senior Fellow - Foreign Policy \n",
      "\n",
      " Twitter\n",
      "MarvinKalb\n",
      "\n",
      "\n",
      "\n",
      "\n",
      "\n",
      "The American press corps struggles every day to prove to readers and viewers that it is “fair and balanced,” the slogan cleverly adopted by Fox News. If it strongly criticized Donald Trump during his presidency (and since), then it follows that it must also strongly criticize Joe Biden, which is exactly what it’s done.\n",
      "Fair, isn’t it? Balanced, too, right?\n",
      "Wrong.\n",
      "Not only does criticism not come in equal shapes and sizes, appropriate for all presidents and both political parties (a journalistic curse called “bothsideism”), but, when unfairly applied, as it has been in covering Biden, it runs the serious risk of further damaging our still free press and weakening our already shaky democracy.\n",
      "The press image of Biden, president of the United States of America, has been whittled down to that of a doddering old man, wobbly on his feet and barely able to articulate a single thought without slurring.\n",
      "Is that a fair and balanced image of Biden? Hardly. But can the press do better?\n",
      "According to columnist Perry Bacon Jr.’s analysis of the media’s cutting criticism of Biden, journalists seemed “poised” from Day One of his administration to “balance” their justifiably negative coverage of Trump with a run of unjustifiably negative stories about Biden. Granted, the press is ordinarily skeptical of any incoming president, but Biden was never given much of a honeymoon.\n",
      "Still, Biden survived his first few months in office in reasonably good shape. His approval rating was a respectable 55%. Some journalists were willing to give the new president the benefit of the doubt on controversial issues. But, as we know, Biden’s poll numbers dropped dramatically after he made the controversial decision in August, 2021, to withdraw the last contingent of American forces from Afghanistan under conditions that were, to say the least, challenging. For a few weeks, news stories from the Kabul airport were devastatingly critical of Biden’s decision, and by month’s end, his poll numbers had dropped to 50%. Since then, they’ve dropped even further, dangling now in the mid-30’s.\n",
      "What we have all noticed is that as Biden’s poll numbers collapsed, negative coverage of him rose, leading in turn to still lower poll numbers, which have only further darkened his political prospects, a looping interaction between polling and press negativity from which there seems no escape.\n",
      "This is not a new problem. Harvard’s Professor Thomas Patterson, in numerous studies, has often pointed to a “negative bias” in the media—“a tendency,” he told me, “to focus on what’s going poorly or done poorly as opposed to what’s going well and done well.” Or, as the old saying goes, “If it bleeds, it leads.”\n",
      "My own experience as a journalist for more than three decades corroborates Patterson’s research. I had a much better chance of getting my story on the evening news if I was reporting an administration disaster than if I wanted to report a success. Negativity sold then, and it does now; but now it is technologically empowered by social media and looser journalistic standards that make governing a democracy a minute-to-minute firecracker of a challenge.\n",
      "By living on negativity, the press has only compounded the inherent problems of governing a democracy already spinning out of control.\n",
      "It is painfully obvious that many serious problems confront the American people, but, press coverage notwithstanding, not all of these are Biden’s fault.\n",
      "For example, the seemingly nonstop, disruptive surges of covid variants could have erupted under any president. This all started under Trump, let us remember. But the covid crisis undoubtedly thickens the political gloom and shortens tempers about the administration’s failure to end the pandemic. Biden, a new covid victim himself, is now saddled with a crisis that seems endless—and is not his doing.\n",
      "Or take the killer problem of inflation, which hurts everyone and defies easy solution. It’s jumped to the top of the charts of public concern. Most press coverage does not deal with its complicated causes, such as supply chain disruptions or razor thin Congressional majorities, or even with possible solutions. Many reporters, lazily pursuing the available narrative of Biden’s “ineptness,” simply drop inflation into the president’s tote bag of other problems—a process scholars call “conflation”—and focus mostly on how inflation hurts Biden’s poll ratings as well as the public’s poor perception of his capabilities.\n",
      "Or take the monster problem of climate change. Though Biden is currently saddled with managing wild fires and historic heat waves, and probably worse, he did come to office with ambitious plans for meeting and easing this crisis. But the GOP and even members of his own party refused to cooperate. His hopes were frustrated, and the crisis worsened. Is that his fault?\n",
      "Or take the issue of Biden’s age. He will soon turn 80, and, if he runs and is re-elected, he will be 84, old by presidential standards. Trump, who is likely to be his opponent, is 4 years younger. No spring chicken, as we used to say, but Biden is the candidate who routinely runs into a storm of criticism about his old age.\n",
      "It has become so easy for the press to criticize Biden. That would be understandable if we were discussing only Fox News and other conservative media. They attack Biden, regardless of the facts, and they attack him relentlessly. It’s what they get paid to do. But it is lousy journalism, and I suspect there are more than a few Fox reporters who know better. I have no hope for Fox commentators. They are in another world.\n",
      "\n",
      "\n",
      "Related Content\n",
      "\n",
      "\n",
      "\n",
      "\n",
      "\n",
      "\n",
      " \n",
      "\n",
      "\n",
      "\n",
      "FixGov\n",
      "What Americans still want from government reform—a midsummer update\n",
      "\n",
      "Paul C. Light\n",
      "Wednesday, July 20, 2022\n",
      "\n",
      "\n",
      "\n",
      "\n",
      "\n",
      "\n",
      "\n",
      " \n",
      "\n",
      "\n",
      "\n",
      "FixGov\n",
      "Trump creates a dilemma for journalists\n",
      "\n",
      "Marvin Kalb\n",
      "Wednesday, July 13, 2022\n",
      "\n",
      "\n",
      "\n",
      "\n",
      "\n",
      "\n",
      "\n",
      " \n",
      "\n",
      "\n",
      "\n",
      "FixGov\n",
      "The challenge to democracy—overcoming the small state bias\n",
      "\n",
      "Al From\n",
      "Wednesday, July 6, 2022\n",
      "\n",
      "\n",
      "\n",
      "\n",
      "\n",
      "But it is not understandable when the mainstream press blows a daily, even hourly, opportunity to cover Biden fairly. The president is a big boy. He can withstand the bad news, if it were presented in a responsible manner. When he complains to reporters, “why don’t you guys talk about something that matters?”, he has a point.\n",
      "How can journalism improve? It is a question that’s decades old. Efforts have been nonstop. Yet improvement is difficult to find in the finished product. Indeed, newsrooms are currently grappling with this problem, but no solution is in sight; and there is not much time before the walls of our democracy begin to shudder.\n",
      "A consensus appears to be building around a new approach to political reporting. Simply put, reporters should stop focusing on the negative—Biden’s standing in the polls, his age, or his “ineptitude” —and start explaining the substantial problems currently bedeviling America and then presenting possible solutions, as suggested by Democrats and Republicans, ultimately leaving it to the American voter to decide what’s best for their bitterly divided country.\n",
      "The tendency to wallow in the negative represents a major and continuing failure of the American press, which has now mushroomed into a problem of such historic importance that, if left unattended, may soon contribute mightily to the undermining of American democracy. It is that serious.\n",
      "Sadly it is not a new problem. In 1947, the Hutchins Commission concluded a special study of press failings by saying “the time had come” for the American press to stop being so negative and start becoming “responsible” for the way it covers the nation’s business. That the press in this country is “free” is a blessing, without question, but a blessing that, operating alone, may not be able to meet the challenges of a robust, swiftly changing, and troubled democracy.\n",
      "Change was necessary in 1947. It is desperately necessary now. There is still time, though not much. Let us hope journalists will seize this precious moment.\n",
      "\n"
     ]
    }
   ],
   "source": [
    "content = scrapeBrookings(url)\n",
    "print('Title: {}'.format(content.title))\n",
    "print('URL: {}\\n'.format(content.url))\n",
    "print(content.body)"
   ]
  }
 ],
 "metadata": {
  "kernelspec": {
   "display_name": "Python 3.10.5 64-bit",
   "language": "python",
   "name": "python3"
  },
  "language_info": {
   "codemirror_mode": {
    "name": "ipython",
    "version": 3
   },
   "file_extension": ".py",
   "mimetype": "text/x-python",
   "name": "python",
   "nbconvert_exporter": "python",
   "pygments_lexer": "ipython3",
   "version": "3.10.5"
  },
  "orig_nbformat": 4,
  "vscode": {
   "interpreter": {
    "hash": "bc3264bed6473cddb994cb730962305c0ca93f43985fb4825b4b36f71df5d1f3"
   }
  }
 },
 "nbformat": 4,
 "nbformat_minor": 2
}
