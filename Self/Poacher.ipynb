{
 "cells": [
  {
   "cell_type": "code",
   "execution_count": 1,
   "metadata": {},
   "outputs": [],
   "source": [
    "import random"
   ]
  },
  {
   "cell_type": "code",
   "execution_count": 2,
   "metadata": {},
   "outputs": [],
   "source": [
    "def defCal(n) :\n",
    "    num_1_4 = 0\n",
    "    num_2_4 = 0\n",
    "    num_3 = 0\n",
    "    num_1_2 = 0\n",
    "    num_2_2 = 0\n",
    "    for i in range(0,n) :\n",
    "        j = random.randrange(1, 16)\n",
    "        if 4 >= j :\n",
    "            num_1_4 += 1\n",
    "        elif 8 >= j >= 5 :\n",
    "            num_2_4 += 1\n",
    "        elif 11 >= j >= 9 :\n",
    "            num_3 += 1\n",
    "        elif 13 >= j >= 12 :\n",
    "            num_1_2 += 1\n",
    "        elif j >= 14 :\n",
    "            num_2_2 += 1\n",
    "\n",
    "    num_1_4_p = round(num_1_4/n*100, 1)\n",
    "    num_2_4_p = round(num_2_4/n*100, 1)\n",
    "    num_3_p = round(num_3/n*100, 1)\n",
    "    num_1_2_p = round(num_1_2/n*100, 1)\n",
    "    num_2_2_p = round(num_2_2/n*100, 1)\n",
    "\n",
    "    print(f'{n}번 돌려서 첫번째 4/15가 {num_1_4}번({num_1_4_p}%), 두번째 4/15가 {num_2_4}번({num_2_4_p}%),\\n 3/15가 {num_3}({num_3_p}%), 첫번째 2/15가 {num_1_2}번({num_1_2_p}%), 두번째 2/15가 {num_2_2}번({num_2_2_p}%)')"
   ]
  },
  {
   "cell_type": "markdown",
   "metadata": {},
   "source": [
    "4/15 : 27.7%  \n",
    "3/15 : 20%  \n",
    "2/15 : 13.3%  "
   ]
  },
  {
   "cell_type": "code",
   "execution_count": 3,
   "metadata": {},
   "outputs": [
    {
     "name": "stdout",
     "output_type": "stream",
     "text": [
      "15번 돌려서 첫번째 4/15가 6번(40.0%), 두번째 4/15가 3번(20.0%),\n",
      " 3/15가 3(20.0%), 첫번째 2/15가 3번(20.0%), 두번째 2/15가 0번(0.0%)\n"
     ]
    }
   ],
   "source": [
    "defCal(15)"
   ]
  },
  {
   "cell_type": "code",
   "execution_count": 4,
   "metadata": {},
   "outputs": [
    {
     "name": "stdout",
     "output_type": "stream",
     "text": [
      "150번 돌려서 첫번째 4/15가 34번(22.7%), 두번째 4/15가 37번(24.7%),\n",
      " 3/15가 39(26.0%), 첫번째 2/15가 20번(13.3%), 두번째 2/15가 20번(13.3%)\n"
     ]
    }
   ],
   "source": [
    "defCal(150)"
   ]
  },
  {
   "cell_type": "code",
   "execution_count": 5,
   "metadata": {},
   "outputs": [
    {
     "name": "stdout",
     "output_type": "stream",
     "text": [
      "1500번 돌려서 첫번째 4/15가 407번(27.1%), 두번째 4/15가 405번(27.0%),\n",
      " 3/15가 261(17.4%), 첫번째 2/15가 239번(15.9%), 두번째 2/15가 188번(12.5%)\n"
     ]
    }
   ],
   "source": [
    "defCal(1500)"
   ]
  },
  {
   "cell_type": "code",
   "execution_count": 6,
   "metadata": {},
   "outputs": [
    {
     "name": "stdout",
     "output_type": "stream",
     "text": [
      "15000번 돌려서 첫번째 4/15가 3952번(26.3%), 두번째 4/15가 4064번(27.1%),\n",
      " 3/15가 3023(20.2%), 첫번째 2/15가 1973번(13.2%), 두번째 2/15가 1988번(13.3%)\n"
     ]
    }
   ],
   "source": [
    "defCal(15000)"
   ]
  },
  {
   "cell_type": "code",
   "execution_count": 7,
   "metadata": {},
   "outputs": [
    {
     "name": "stdout",
     "output_type": "stream",
     "text": [
      "150000번 돌려서 첫번째 4/15가 39987번(26.7%), 두번째 4/15가 39954번(26.6%),\n",
      " 3/15가 29883(19.9%), 첫번째 2/15가 20192번(13.5%), 두번째 2/15가 19984번(13.3%)\n"
     ]
    }
   ],
   "source": [
    "defCal(150000)"
   ]
  },
  {
   "cell_type": "code",
   "execution_count": 8,
   "metadata": {},
   "outputs": [
    {
     "name": "stdout",
     "output_type": "stream",
     "text": [
      "1500000번 돌려서 첫번째 4/15가 399543번(26.6%), 두번째 4/15가 399680번(26.6%),\n",
      " 3/15가 300002(20.0%), 첫번째 2/15가 200708번(13.4%), 두번째 2/15가 200067번(13.3%)\n"
     ]
    }
   ],
   "source": [
    "defCal(1500000)"
   ]
  },
  {
   "cell_type": "code",
   "execution_count": 9,
   "metadata": {},
   "outputs": [
    {
     "name": "stdout",
     "output_type": "stream",
     "text": [
      "15000000번 돌려서 첫번째 4/15가 4001787번(26.7%), 두번째 4/15가 4001136번(26.7%),\n",
      " 3/15가 2998128(20.0%), 첫번째 2/15가 1999156번(13.3%), 두번째 2/15가 1999793번(13.3%)\n"
     ]
    }
   ],
   "source": [
    "defCal(15000000)"
   ]
  }
 ],
 "metadata": {
  "kernelspec": {
   "display_name": "Python 3.10.5 64-bit",
   "language": "python",
   "name": "python3"
  },
  "language_info": {
   "codemirror_mode": {
    "name": "ipython",
    "version": 3
   },
   "file_extension": ".py",
   "mimetype": "text/x-python",
   "name": "python",
   "nbconvert_exporter": "python",
   "pygments_lexer": "ipython3",
   "version": "3.10.5"
  },
  "orig_nbformat": 4,
  "vscode": {
   "interpreter": {
    "hash": "bc3264bed6473cddb994cb730962305c0ca93f43985fb4825b4b36f71df5d1f3"
   }
  }
 },
 "nbformat": 4,
 "nbformat_minor": 2
}
