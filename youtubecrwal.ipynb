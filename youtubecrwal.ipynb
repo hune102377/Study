{
 "cells": [
  {
   "cell_type": "code",
   "execution_count": 22,
   "metadata": {},
   "outputs": [],
   "source": [
    "from selenium.webdriver import Chrome\n",
    "from selenium.webdriver.common.by import By"
   ]
  },
  {
   "cell_type": "code",
   "execution_count": 23,
   "metadata": {},
   "outputs": [],
   "source": [
    "# 크롤링 전 세팅\n",
    "chrome_driver_path = r'./'\n",
    "\n",
    "# 크롤링 URL\n",
    "# 향후 찾고 싶은 영상 URL만 변경\n",
    "url_path = 'https://www.youtube.com/watch?v=3YqPKLZF_WU'"
   ]
  },
  {
   "cell_type": "code",
   "execution_count": null,
   "metadata": {},
   "outputs": [],
   "source": [
    "# 크롤링 전 세팅\n",
    "chrome_driver_path = r'(크롬드라이브 설치 경로)'\n",
    "\n",
    "# 크롤링 URL\n",
    "# 향후 찾고 싶은 영상 URL만 변경\n",
    "url_path = 'https://www.youtube.com/watch?v=3YqPKLZF_WU'"
   ]
  }
 ],
 "metadata": {
  "kernelspec": {
   "display_name": "Python 3.10.5 64-bit",
   "language": "python",
   "name": "python3"
  },
  "language_info": {
   "codemirror_mode": {
    "name": "ipython",
    "version": 3
   },
   "file_extension": ".py",
   "mimetype": "text/x-python",
   "name": "python",
   "nbconvert_exporter": "python",
   "pygments_lexer": "ipython3",
   "version": "3.10.5"
  },
  "orig_nbformat": 4,
  "vscode": {
   "interpreter": {
    "hash": "bc3264bed6473cddb994cb730962305c0ca93f43985fb4825b4b36f71df5d1f3"
   }
  }
 },
 "nbformat": 4,
 "nbformat_minor": 2
}
