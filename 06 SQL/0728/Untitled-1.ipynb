{
 "cells": [
  {
   "cell_type": "markdown",
   "metadata": {},
   "source": [
    "import pand"
   ]
  },
  {
   "cell_type": "code",
   "execution_count": 1,
   "metadata": {},
   "outputs": [],
   "source": [
    "import pandas as pd"
   ]
  },
  {
   "cell_type": "code",
   "execution_count": null,
   "metadata": {},
   "outputs": [],
   "source": [
    "df = pd.read_csv('.')"
   ]
  },
  {
   "cell_type": "code",
   "execution_count": null,
   "metadata": {},
   "outputs": [],
   "source": [
    "country = []\n",
    "continent = []\n",
    "area= []\n",
    "population = []\n",
    "captial = []\n",
    "top_level_domain = []\n",
    "\n",
    "\n",
    "for i in range(len(country)):\n",
    "    print(f\"insert into world\\n(county, continent, area, population, captial, top_level_domain)\\nvalues ('{country[i]}', '{continent[i]}', '{area[i]}', '{population[i]}', '{captial[i]}', '{top_level_domain[i]}')\")"
   ]
  }
 ],
 "metadata": {
  "kernelspec": {
   "display_name": "Python 3.10.5 64-bit",
   "language": "python",
   "name": "python3"
  },
  "language_info": {
   "codemirror_mode": {
    "name": "ipython",
    "version": 3
   },
   "file_extension": ".py",
   "mimetype": "text/x-python",
   "name": "python",
   "nbconvert_exporter": "python",
   "pygments_lexer": "ipython3",
   "version": "3.10.5"
  },
  "orig_nbformat": 4,
  "vscode": {
   "interpreter": {
    "hash": "bc3264bed6473cddb994cb730962305c0ca93f43985fb4825b4b36f71df5d1f3"
   }
  }
 },
 "nbformat": 4,
 "nbformat_minor": 2
}
