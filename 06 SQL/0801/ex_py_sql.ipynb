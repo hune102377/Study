{
 "cells": [
  {
   "cell_type": "code",
   "execution_count": 2,
   "metadata": {},
   "outputs": [],
   "source": [
    "import pymysql\n",
    "import pandas as pd"
   ]
  },
  {
   "cell_type": "code",
   "execution_count": 59,
   "metadata": {},
   "outputs": [
    {
     "name": "stdout",
     "output_type": "stream",
     "text": [
      "           이름             성                  날짜\n",
      "0    PENELOPE       GUINESS 2006-02-15 04:34:33\n",
      "1        NICK      WAHLBERG 2006-02-15 04:34:33\n",
      "2          ED         CHASE 2006-02-15 04:34:33\n",
      "3    JENNIFER         DAVIS 2006-02-15 04:34:33\n",
      "4      JOHNNY  LOLLOBRIGIDA 2006-02-15 04:34:33\n",
      "..        ...           ...                 ...\n",
      "195      BELA        WALKEN 2006-02-15 04:34:33\n",
      "196     REESE          WEST 2006-02-15 04:34:33\n",
      "197      MARY        KEITEL 2006-02-15 04:34:33\n",
      "198     JULIA       FAWCETT 2006-02-15 04:34:33\n",
      "199     THORA        TEMPLE 2006-02-15 04:34:33\n",
      "\n",
      "[200 rows x 3 columns]\n"
     ]
    }
   ],
   "source": [
    "conn = pymysql.connect(host='localhost', user='root', password='102377',\n",
    "db = 'sakila', charset='utf8')\n",
    "\n",
    "cur = conn.cursor()\n",
    "cur.execute('select * from actor')\n",
    "rows = cur.fetchall() # 모든 데이터를 가져옴\n",
    "language_df = pd.DataFrame(rows, columns = ['버릴것','이름','성','날짜']) # DataFrame 형태로 변환\n",
    "language_df.drop(columns = '버릴것',inplace = True)\n",
    "print(language_df)\n",
    "cur.close()\n",
    "conn.close()"
   ]
  },
  {
   "cell_type": "code",
   "execution_count": 49,
   "metadata": {},
   "outputs": [
    {
     "data": {
      "text/plain": [
       "(4, 'JENNIFER', 'DAVIS', datetime.datetime(2006, 2, 15, 4, 34, 33))"
      ]
     },
     "execution_count": 49,
     "metadata": {},
     "output_type": "execute_result"
    }
   ],
   "source": [
    "rows = list(rows)\n",
    "rows[3]"
   ]
  },
  {
   "cell_type": "code",
   "execution_count": 60,
   "metadata": {},
   "outputs": [
    {
     "data": {
      "text/html": [
       "<div>\n",
       "<style scoped>\n",
       "    .dataframe tbody tr th:only-of-type {\n",
       "        vertical-align: middle;\n",
       "    }\n",
       "\n",
       "    .dataframe tbody tr th {\n",
       "        vertical-align: top;\n",
       "    }\n",
       "\n",
       "    .dataframe thead th {\n",
       "        text-align: right;\n",
       "    }\n",
       "</style>\n",
       "<table border=\"1\" class=\"dataframe\">\n",
       "  <thead>\n",
       "    <tr style=\"text-align: right;\">\n",
       "      <th></th>\n",
       "      <th>이름</th>\n",
       "      <th>성</th>\n",
       "      <th>날짜</th>\n",
       "    </tr>\n",
       "  </thead>\n",
       "  <tbody>\n",
       "    <tr>\n",
       "      <th>0</th>\n",
       "      <td>PENELOPE</td>\n",
       "      <td>GUINESS</td>\n",
       "      <td>2006-02-15 04:34:33</td>\n",
       "    </tr>\n",
       "    <tr>\n",
       "      <th>1</th>\n",
       "      <td>NICK</td>\n",
       "      <td>WAHLBERG</td>\n",
       "      <td>2006-02-15 04:34:33</td>\n",
       "    </tr>\n",
       "    <tr>\n",
       "      <th>2</th>\n",
       "      <td>ED</td>\n",
       "      <td>CHASE</td>\n",
       "      <td>2006-02-15 04:34:33</td>\n",
       "    </tr>\n",
       "    <tr>\n",
       "      <th>3</th>\n",
       "      <td>JENNIFER</td>\n",
       "      <td>DAVIS</td>\n",
       "      <td>2006-02-15 04:34:33</td>\n",
       "    </tr>\n",
       "    <tr>\n",
       "      <th>4</th>\n",
       "      <td>JOHNNY</td>\n",
       "      <td>LOLLOBRIGIDA</td>\n",
       "      <td>2006-02-15 04:34:33</td>\n",
       "    </tr>\n",
       "    <tr>\n",
       "      <th>...</th>\n",
       "      <td>...</td>\n",
       "      <td>...</td>\n",
       "      <td>...</td>\n",
       "    </tr>\n",
       "    <tr>\n",
       "      <th>195</th>\n",
       "      <td>BELA</td>\n",
       "      <td>WALKEN</td>\n",
       "      <td>2006-02-15 04:34:33</td>\n",
       "    </tr>\n",
       "    <tr>\n",
       "      <th>196</th>\n",
       "      <td>REESE</td>\n",
       "      <td>WEST</td>\n",
       "      <td>2006-02-15 04:34:33</td>\n",
       "    </tr>\n",
       "    <tr>\n",
       "      <th>197</th>\n",
       "      <td>MARY</td>\n",
       "      <td>KEITEL</td>\n",
       "      <td>2006-02-15 04:34:33</td>\n",
       "    </tr>\n",
       "    <tr>\n",
       "      <th>198</th>\n",
       "      <td>JULIA</td>\n",
       "      <td>FAWCETT</td>\n",
       "      <td>2006-02-15 04:34:33</td>\n",
       "    </tr>\n",
       "    <tr>\n",
       "      <th>199</th>\n",
       "      <td>THORA</td>\n",
       "      <td>TEMPLE</td>\n",
       "      <td>2006-02-15 04:34:33</td>\n",
       "    </tr>\n",
       "  </tbody>\n",
       "</table>\n",
       "<p>200 rows × 3 columns</p>\n",
       "</div>"
      ],
      "text/plain": [
       "           이름             성                  날짜\n",
       "0    PENELOPE       GUINESS 2006-02-15 04:34:33\n",
       "1        NICK      WAHLBERG 2006-02-15 04:34:33\n",
       "2          ED         CHASE 2006-02-15 04:34:33\n",
       "3    JENNIFER         DAVIS 2006-02-15 04:34:33\n",
       "4      JOHNNY  LOLLOBRIGIDA 2006-02-15 04:34:33\n",
       "..        ...           ...                 ...\n",
       "195      BELA        WALKEN 2006-02-15 04:34:33\n",
       "196     REESE          WEST 2006-02-15 04:34:33\n",
       "197      MARY        KEITEL 2006-02-15 04:34:33\n",
       "198     JULIA       FAWCETT 2006-02-15 04:34:33\n",
       "199     THORA        TEMPLE 2006-02-15 04:34:33\n",
       "\n",
       "[200 rows x 3 columns]"
      ]
     },
     "execution_count": 60,
     "metadata": {},
     "output_type": "execute_result"
    }
   ],
   "source": [
    "language_df"
   ]
  },
  {
   "cell_type": "markdown",
   "metadata": {},
   "source": [
    "§ cursor() 함수  \n",
    "     - cursor 객체 생성  \n",
    "     - cursor: 쿼리문에 의해 반환되는 결과값을 저장하는 공간  \n",
    "\n",
    "§ cursor.execute(‘쿼리문장’, args=None) 함수  \n",
    "     - 작성한 쿼리를 실행  \n",
    "\n",
    "§ fetch 관련 함수  \n",
    "     - fetchall(): 모든 데이터를 한 번에 가져옴  \n",
    "     - fetchone(): 한 번 호출에 하나의 행만 가져옴  \n",
    "     - fetchmany(n): n개 만큼의 데이터를 가져옴  \n",
    "\n",
    "§ commit() 함수  \n",
    "     - 데이터를 추가, 수정, 삭제 등의 작업을 수행한 다음에 실행  \n",
    "\n",
    "§ close() 함수  \n",
    "     -  MySQL과의 연결 종료  "
   ]
  },
  {
   "cell_type": "code",
   "execution_count": 38,
   "metadata": {},
   "outputs": [
    {
     "name": "stdout",
     "output_type": "stream",
     "text": [
      "('CATHERINE.CAMPBELL@sakilacustomer.org',)\n",
      "('JOYCE.EDWARDS@sakilacustomer.org',)\n",
      "('AMBER.DIXON@sakilacustomer.org',)\n",
      "('JEANETTE.GREENE@sakilacustomer.org',)\n",
      "('MINNIE.ROMERO@sakilacustomer.org',)\n",
      "('GWENDOLYN.MAY@sakilacustomer.org',)\n",
      "('SONIA.GREGORY@sakilacustomer.org',)\n",
      "('MIRIAM.MCKINNEY@sakilacustomer.org',)\n",
      "('CHARLES.KOWALSKI@sakilacustomer.org',)\n",
      "('DANIEL.CABRAL@sakilacustomer.org',)\n",
      "('MATTHEW.MAHAN@sakilacustomer.org',)\n",
      "('JEFFERY.PINSON@sakilacustomer.org',)\n",
      "('HERMAN.DEVORE@sakilacustomer.org',)\n",
      "('ELMER.NOE@sakilacustomer.org',)\n",
      "('TERRANCE.ROUSH@sakilacustomer.org',)\n",
      "('TERRENCE.GUNDERSON@sakilacustomer.org',)\n"
     ]
    }
   ],
   "source": [
    "import pymysql\n",
    "conn = pymysql.connect(host='localhost', user='root', password='102377',\n",
    "db = 'sakila', charset='utf8')\n",
    "\n",
    "cur = conn.cursor()\n",
    "\n",
    "query = \"\"\"\n",
    "select c.email\n",
    "from customer as c\n",
    "inner join rental as r\n",
    "on c.customer_id = r.customer_id\n",
    "where date(r.rental_date) = (%s)\"\"\"\n",
    "\n",
    "cur.execute(query, ('2005-06-14'))\n",
    "rows = cur.fetchall() # 모든 데이터를 가져옴\n",
    "for row in rows:\n",
    "    print(row)\n",
    "cur.close()\n",
    "conn.close()"
   ]
  },
  {
   "cell_type": "markdown",
   "metadata": {},
   "source": []
  }
 ],
 "metadata": {
  "kernelspec": {
   "display_name": "Python 3.10.5 64-bit",
   "language": "python",
   "name": "python3"
  },
  "language_info": {
   "codemirror_mode": {
    "name": "ipython",
    "version": 3
   },
   "file_extension": ".py",
   "mimetype": "text/x-python",
   "name": "python",
   "nbconvert_exporter": "python",
   "pygments_lexer": "ipython3",
   "version": "3.10.5"
  },
  "orig_nbformat": 4,
  "vscode": {
   "interpreter": {
    "hash": "bc3264bed6473cddb994cb730962305c0ca93f43985fb4825b4b36f71df5d1f3"
   }
  }
 },
 "nbformat": 4,
 "nbformat_minor": 2
}
